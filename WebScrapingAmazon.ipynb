{
 "cells": [
  {
   "cell_type": "markdown",
   "metadata": {},
   "source": [
    "Amazon Website Scrapping Project"
   ]
  },
  {
   "cell_type": "code",
   "execution_count": 16,
   "metadata": {},
   "outputs": [],
   "source": [
    "import warnings\n",
    "warnings.filterwarnings('ignore')"
   ]
  },
  {
   "cell_type": "code",
   "execution_count": 17,
   "metadata": {},
   "outputs": [],
   "source": [
    "#Import Libraries\n",
    "\n",
    "from bs4 import  BeautifulSoup\n",
    "import pandas as pd\n",
    "import requests\n",
    "import time\n",
    "import datetime\n",
    "import  smtplib\n",
    "\n"
   ]
  },
  {
   "cell_type": "code",
   "execution_count": 60,
   "metadata": {},
   "outputs": [
    {
     "name": "stdout",
     "output_type": "stream",
     "text": [
      "Tamron 18-300mm F/3.5-6.3 Di III-A VC VXD Lens for Sony E APS-C Mirrorless Cameras (Black)\n",
      "<span class=\"a-offscreen\">\n",
      "                             $599.00\n",
      "                            </span>\n"
     ]
    }
   ],
   "source": [
    "#Connect to the Amazon Website\n",
    "\n",
    "url = 'https://www.amazon.com/gp/product/B09DP27V2S/ref=ox_sc_saved_title_1?smid=AXCB29L39I26U&psc=1'\n",
    "\n",
    "headers = {\"User-Agent\": \"Mozilla/5.0 (Macintosh; Intel Mac OS X 10_15_7) AppleWebKit/537.36 (KHTML, like Gecko) Chrome/123.0.0.0 Safari/537.36\", \n",
    "           \"Accept-Encoding\":\"gzip, deflate\", \"Accept\":\"text/html,application/xhtml+xml,application/xml;q=0.9,*/*;q=0.8\", \"DNT\":\"1\",\"Connection\":\"close\", \n",
    "           \"Upgrade-Insecure-Requests\":\"1\"}\n",
    "\n",
    "#get the response of the website url, 200 means success.\n",
    "#response = requests.get(url)\n",
    "#print(response.status_code)\n",
    "\n",
    "page = requests.get(url, headers = headers)\n",
    "\n",
    "#soup1 = BeautifulSoup(page.content,\"html.parser\")\n",
    "\n",
    "#but html.parser doesn't parse the HTML from Amazon well. so we change to lxml or html5lib parser\n",
    "\n",
    "soup1 = BeautifulSoup(page.content,\"html5lib\")\n",
    "soup2 = BeautifulSoup(soup1.prettify(),\"html5lib\")\n",
    "\n",
    "title = soup2.find(id = \"productTitle\").get_text(strip=True)\n",
    "\n",
    "#pull three part of span class=a-price-symbol, span class=a-price-whole, and span class=a-price-fraction and combine it together into 1 new variable (price), \n",
    "#then you need to clean it using strip() and replace() to clean the whitespaces and \\n's.\n",
    "\n",
    "price = soup2.select_one('span.a-price').select_one('span.a-offscreen')\n",
    "\n",
    "#price_symbol = soup2.find(class_='a-price-symbol').get_text()\n",
    "#price_whole = soup2.find(class_='a-price-whole').get_text()\n",
    "#price_fraction = soup2.find(class_='a-price-fraction').get_text()\n",
    "#price = f'{price_symbol}{price_whole}{price_fraction}'\n",
    "\n",
    "\n",
    "# Clean up the data a little bit\n",
    "print(title)\n",
    "print(price)\n",
    "\n"
   ]
  },
  {
   "cell_type": "code",
   "execution_count": 66,
   "metadata": {},
   "outputs": [
    {
     "name": "stdout",
     "output_type": "stream",
     "text": [
      "Tamron 18-300mm F/3.5-6.3 Di III-A VC VXD Lens for Sony E APS-C Mirrorless Cameras (Black)\n",
      "$599.00\n"
     ]
    }
   ],
   "source": [
    "# Clean up the data\n",
    "\n",
    "#price_symbol = soup2.find(class_='a-price-symbol').get_text(strip=True)\n",
    "#price_whole = soup2.find(class_='a-price-whole').get_text(strip=True)\n",
    "#price_fraction = soup2.find(class_='a-price-fraction').get_text(strip=True)\n",
    "#price = f'{price_symbol}{price_whole}{price_fraction}'\n",
    "\n",
    "# Clean up the data a little bit\n",
    "title = title.strip()\n",
    "price = price.strip()\n",
    "\n",
    "print(title)\n",
    "print(price)"
   ]
  },
  {
   "cell_type": "code",
   "execution_count": 67,
   "metadata": {},
   "outputs": [
    {
     "name": "stdout",
     "output_type": "stream",
     "text": [
      "2024-03-31\n"
     ]
    }
   ],
   "source": [
    "# Create a Timestamp for your output to track when data was collected\n",
    "\n",
    "import datetime\n",
    "\n",
    "today = datetime.date.today()\n",
    "\n",
    "print(today)"
   ]
  },
  {
   "cell_type": "code",
   "execution_count": 68,
   "metadata": {},
   "outputs": [],
   "source": [
    "# Create CSV and write headers and data into the file\n",
    "\n",
    "import csv\n",
    "\n",
    "header = ['Title','Price','Date']\n",
    "data = [title,price,today]\n",
    "\n",
    "with open('Amazon_web_scrap_data.csv', 'w', newline='', encoding='UTF8') as f:\n",
    "    writer = csv.writer(f)\n",
    "    writer.writerow(header)\n",
    "    writer.writerow(data)\n"
   ]
  },
  {
   "cell_type": "code",
   "execution_count": 69,
   "metadata": {},
   "outputs": [
    {
     "name": "stdout",
     "output_type": "stream",
     "text": [
      "                                               Title    Price        Date\n",
      "0  Tamron 18-300mm F/3.5-6.3 Di III-A VC VXD Lens...  $599.00  2024-03-31\n"
     ]
    }
   ],
   "source": [
    "#Verify the CSV file using pandas read\n",
    "\n",
    "df = pd.read_csv(r\"/Users/bbkar/Documents/Data Analytics Projects/Web Scraping Project/Amazon/Amazon_web_scrap_data.csv\")\n",
    "\n",
    "print(df)"
   ]
  },
  {
   "cell_type": "code",
   "execution_count": 72,
   "metadata": {},
   "outputs": [],
   "source": [
    "#Now we are appending data to the csv\n",
    "\n",
    "with open('Amazon_web_scrap_data.csv', 'a+', newline='', encoding='UTF8') as f:\n",
    "    writer = csv.writer(f)\n",
    "    writer.writerow(data)"
   ]
  },
  {
   "cell_type": "code",
   "execution_count": 73,
   "metadata": {},
   "outputs": [
    {
     "name": "stdout",
     "output_type": "stream",
     "text": [
      "                                               Title    Price        Date\n",
      "0  Tamron 18-300mm F/3.5-6.3 Di III-A VC VXD Lens...  $599.00  2024-03-31\n",
      "1  Tamron 18-300mm F/3.5-6.3 Di III-A VC VXD Lens...  $599.00  2024-03-31\n",
      "2  Tamron 18-300mm F/3.5-6.3 Di III-A VC VXD Lens...  $599.00  2024-03-31\n"
     ]
    }
   ],
   "source": [
    "df = pd.read_csv(r\"/Users/bbkar/Documents/Data Analytics Projects/Web Scraping Project/Amazon/Amazon_web_scrap_data.csv\")\n",
    "\n",
    "print(df)"
   ]
  },
  {
   "cell_type": "code",
   "execution_count": 74,
   "metadata": {},
   "outputs": [],
   "source": [
    "#Combine all of the above code into one function\n",
    "\n",
    "def check_price():\n",
    "    url = 'https://www.amazon.com/gp/product/B09DP27V2S/ref=ox_sc_saved_title_1?smid=AXCB29L39I26U&psc=1'\n",
    "\n",
    "headers = {\"User-Agent\": \"Mozilla/5.0 (Macintosh; Intel Mac OS X 10_15_7) AppleWebKit/537.36 (KHTML, like Gecko) Chrome/123.0.0.0 Safari/537.36\", \n",
    "           \"Accept-Encoding\":\"gzip, deflate\", \"Accept\":\"text/html,application/xhtml+xml,application/xml;q=0.9,*/*;q=0.8\", \"DNT\":\"1\",\"Connection\":\"close\", \n",
    "           \"Upgrade-Insecure-Requests\":\"1\"}\n",
    "\n",
    "page = requests.get(url, headers = headers)\n",
    "\n",
    "soup1 = BeautifulSoup(page.content,\"html5lib\")\n",
    "soup2 = BeautifulSoup(soup1.prettify(),\"html5lib\")\n",
    "\n",
    "title = soup2.find(id = \"productTitle\").get_text(strip=True)\n",
    "\n",
    "price_symbol = soup2.find(class_='a-price-symbol').get_text(strip=True)\n",
    "price_whole = soup2.find(class_='a-price-whole').get_text(strip=True)\n",
    "price_fraction = soup2.find(class_='a-price-fraction').get_text(strip=True)\n",
    "price = f'{price_symbol}{price_whole}{price_fraction}'\n",
    "\n",
    "import datetime\n",
    "today = datetime.date.today()\n",
    "\n",
    "import csv \n",
    "header = ['Title','Price','Date']\n",
    "data = [title,price,today]\n",
    "\n",
    "with open('Amazon_web_scrap_data.csv', 'a+', newline='', encoding='UTF8') as f:\n",
    "    writer = csv.writer(f)\n",
    "    writer.writerow(data)\n"
   ]
  },
  {
   "cell_type": "code",
   "execution_count": null,
   "metadata": {},
   "outputs": [],
   "source": [
    "# Runs check_price after a set time and inputs data into your CSV\n",
    "while(True):\n",
    "    check_price()\n",
    "    time.sleep(86400)"
   ]
  },
  {
   "cell_type": "code",
   "execution_count": 75,
   "metadata": {},
   "outputs": [
    {
     "name": "stdout",
     "output_type": "stream",
     "text": [
      "                                               Title    Price        Date\n",
      "0  Tamron 18-300mm F/3.5-6.3 Di III-A VC VXD Lens...  $599.00  2024-03-31\n",
      "1  Tamron 18-300mm F/3.5-6.3 Di III-A VC VXD Lens...  $499.00  2024-12-25\n",
      "2  Tamron 18-300mm F/3.5-6.3 Di III-A VC VXD Lens...  $599.00  2023-03-31\n",
      "3  Tamron 18-300mm F/3.5-6.3 Di III-A VC VXD Lens...  $699.00  2022-02-12\n"
     ]
    }
   ],
   "source": [
    "df = pd.read_csv(r\"/Users/bbkar/Documents/Data Analytics Projects/Web Scraping Project/Amazon/Amazon_web_scrap_data.csv\")\n",
    "\n",
    "print(df)"
   ]
  },
  {
   "cell_type": "code",
   "execution_count": null,
   "metadata": {},
   "outputs": [],
   "source": [
    "# If uou want to try sending yourself an email when a price hits below a certain level you can try it\n",
    "# out with this script\n",
    "\n",
    "def send_mail():\n",
    "    server = smtplib.SMTP_SSL('smtp.gmail.com',465)\n",
    "    server.ehlo()\n",
    "    #server.starttls()\n",
    "    server.ehlo()\n",
    "    server.login('abc.xyz@mail.com','xxxxxxxxxxxxxx')\n",
    "    \n",
    "    subject = \"Tamron 18-300mm F/3.5-6.3 Lens for Sony E is below 599!\"\n",
    "    body = \"ABC, This is the moment you have been waiting for. Now is your chance to pick up the Sony E mount lens. Don't mess it up!\"\n",
    "    \"Link here: https://www.amazon.com/gp/product/B09DP27V2S/ref=ox_sc_saved_title_1?smid=AXCB29L39I26U&psc=1\"\n",
    "   \n",
    "    msg = f\"Subject: {subject}\\n\\n{body}\"\n",
    "    \n",
    "    server.sendmail(\n",
    "        'abc.xyz@mail.com',\n",
    "        msg\n",
    "     \n",
    "    )"
   ]
  }
 ],
 "metadata": {
  "kernelspec": {
   "display_name": "base",
   "language": "python",
   "name": "python3"
  },
  "language_info": {
   "codemirror_mode": {
    "name": "ipython",
    "version": 3
   },
   "file_extension": ".py",
   "mimetype": "text/x-python",
   "name": "python",
   "nbconvert_exporter": "python",
   "pygments_lexer": "ipython3",
   "version": "3.11.7"
  }
 },
 "nbformat": 4,
 "nbformat_minor": 2
}
